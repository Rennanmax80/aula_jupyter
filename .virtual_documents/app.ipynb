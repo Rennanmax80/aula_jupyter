import pandas as pd                     
import matplotlib.pyplot as plt 
import ipywidgets as widgets



filename = 'sales_data.csv'
df = pd.read_csv(filename, index_col=0)
#df.head()


df['Sales'] = df['Quantity Ordered'] * df['Price Each']
#df.head()


#ax = df.groupby(['Month']).sum()['Sales'].plot(kind='bar')
#plt.ylabel('Sales ($)')
#plt.xlabel('Month')
#plt.show()


wid_city = widgets.Dropdown(name='city')
wid_city.options = list(df.City.unique())

wid_product = widgets.Dropdown(name='product')
wid_product.options = list(df.Product.unique())

def func(city, product):
    df_tmp = df[df['City'] == wid_city.value].copy()
    df_tmp = df_tmp[df_tmp['Product'] == wid_product.value]

    ax = df_tmp.groupby(['Month']).sum()['Sales'].plot(kind='bar')
    plt.ylabel('Sales ($)')
    plt.xlabel('Month')
    plt.show()

interactive_plot = widgets.interactive(func, city=wid_city, product=wid_product)
output = interactive_plot.children[-1]
output.layout.height = '350px'

interactive_plot




